{
 "cells": [
  {
   "cell_type": "code",
   "execution_count": 16,
   "metadata": {},
   "outputs": [],
   "source": [
    "import sqlite3"
   ]
  },
  {
   "cell_type": "code",
   "execution_count": 17,
   "metadata": {},
   "outputs": [],
   "source": [
    "conexao = sqlite3.connect('filmes.db')\n",
    "cursor = conexao.cursor()"
   ]
  },
  {
   "cell_type": "code",
   "execution_count": 19,
   "metadata": {},
   "outputs": [
    {
     "ename": "OperationalError",
     "evalue": "table Filme already exists",
     "output_type": "error",
     "traceback": [
      "\u001b[0;31m---------------------------------------------------------------------------\u001b[0m",
      "\u001b[0;31mOperationalError\u001b[0m                          Traceback (most recent call last)",
      "Cell \u001b[0;32mIn[19], line 1\u001b[0m\n\u001b[0;32m----> 1\u001b[0m cursor\u001b[39m.\u001b[39;49mexecute(\u001b[39m'''\u001b[39;49m\n\u001b[1;32m      2\u001b[0m \u001b[39m   CREATE TABLE Filme (\u001b[39;49m\n\u001b[1;32m      3\u001b[0m \u001b[39m        id_filme INTEGER PRIMARY KEY,\u001b[39;49m\n\u001b[1;32m      4\u001b[0m \u001b[39m        nome_filme VARCHAR (100),\u001b[39;49m\n\u001b[1;32m      5\u001b[0m \u001b[39m        genero_filme VARCHAR(30),\u001b[39;49m\n\u001b[1;32m      6\u001b[0m \u001b[39m        imdb_link VARCHAR(1000),\u001b[39;49m\n\u001b[1;32m      7\u001b[0m \u001b[39m        img_link VARCHAR(1000),\u001b[39;49m\n\u001b[1;32m      8\u001b[0m \u001b[39m        popularidade_filme INT,\u001b[39;49m\n\u001b[1;32m      9\u001b[0m \u001b[39m        duracao_filme FLOAT,\u001b[39;49m\n\u001b[1;32m     10\u001b[0m \u001b[39m        sinopse VARCHAR (1000),\u001b[39;49m\n\u001b[1;32m     11\u001b[0m \u001b[39m        diretor_filme VARCHAR(50),\u001b[39;49m\n\u001b[1;32m     12\u001b[0m \u001b[39m        ano_lancamento INT,\u001b[39;49m\n\u001b[1;32m     13\u001b[0m \u001b[39m        nota_filme FLOAT,\u001b[39;49m\n\u001b[1;32m     14\u001b[0m \u001b[39m        produtora_filme VARCHAR (100)\u001b[39;49m\n\u001b[1;32m     15\u001b[0m \u001b[39m    )\u001b[39;49m\n\u001b[1;32m     16\u001b[0m \u001b[39m'''\u001b[39;49m)\n",
      "\u001b[0;31mOperationalError\u001b[0m: table Filme already exists"
     ]
    }
   ],
   "source": [
    "cursor.execute('''\n",
    "   CREATE TABLE Filme (\n",
    "        id_filme INTEGER PRIMARY KEY,\n",
    "        nome_filme VARCHAR (100),\n",
    "        genero_filme VARCHAR(30),\n",
    "        imdb_link VARCHAR(1000),\n",
    "        img_link VARCHAR(1000),\n",
    "        popularidade_filme INT,\n",
    "        duracao_filme FLOAT,\n",
    "        sinopse VARCHAR (1000),\n",
    "        diretor_filme VARCHAR(50),\n",
    "        ano_lancamento INT,\n",
    "        nota_filme FLOAT,\n",
    "        produtora_filme VARCHAR (100)\n",
    "    )\n",
    "''')"
   ]
  },
  {
   "cell_type": "code",
   "execution_count": 20,
   "metadata": {},
   "outputs": [
    {
     "ename": "OperationalError",
     "evalue": "table Usuario already exists",
     "output_type": "error",
     "traceback": [
      "\u001b[0;31m---------------------------------------------------------------------------\u001b[0m",
      "\u001b[0;31mOperationalError\u001b[0m                          Traceback (most recent call last)",
      "Cell \u001b[0;32mIn[20], line 1\u001b[0m\n\u001b[0;32m----> 1\u001b[0m cursor\u001b[39m.\u001b[39;49mexecute(\u001b[39m'''\u001b[39;49m\n\u001b[1;32m      2\u001b[0m \u001b[39m    CREATE TABLE Usuario (\u001b[39;49m\n\u001b[1;32m      3\u001b[0m \u001b[39m    id_usuario INTEGER PRIMARY KEY,\u001b[39;49m\n\u001b[1;32m      4\u001b[0m \u001b[39m    username VARCHAR(100)\u001b[39;49m\n\u001b[1;32m      5\u001b[0m \u001b[39m    )\u001b[39;49m\n\u001b[1;32m      6\u001b[0m \u001b[39m'''\u001b[39;49m)\n",
      "\u001b[0;31mOperationalError\u001b[0m: table Usuario already exists"
     ]
    }
   ],
   "source": [
    "cursor.execute('''\n",
    "    CREATE TABLE Usuario (\n",
    "    id_usuario INTEGER PRIMARY KEY,\n",
    "    username VARCHAR(100)\n",
    "    )\n",
    "''')"
   ]
  },
  {
   "cell_type": "code",
   "execution_count": 21,
   "metadata": {},
   "outputs": [
    {
     "ename": "OperationalError",
     "evalue": "table Avaliacao already exists",
     "output_type": "error",
     "traceback": [
      "\u001b[0;31m---------------------------------------------------------------------------\u001b[0m",
      "\u001b[0;31mOperationalError\u001b[0m                          Traceback (most recent call last)",
      "Cell \u001b[0;32mIn[21], line 1\u001b[0m\n\u001b[0;32m----> 1\u001b[0m cursor\u001b[39m.\u001b[39;49mexecute(\u001b[39m'''\u001b[39;49m\n\u001b[1;32m      2\u001b[0m \u001b[39m    CREATE TABLE Avaliacao (\u001b[39;49m\n\u001b[1;32m      3\u001b[0m \u001b[39m    id_avaliacao INTEGER PRIMARY KEY,\u001b[39;49m\n\u001b[1;32m      4\u001b[0m \u001b[39m    id_usuario INTEGER,\u001b[39;49m\n\u001b[1;32m      5\u001b[0m \u001b[39m    fk_filme_id INTEGER,\u001b[39;49m\n\u001b[1;32m      6\u001b[0m \u001b[39m    nota_avaliacao FLOAT,\u001b[39;49m\n\u001b[1;32m      7\u001b[0m \u001b[39m    FOREIGN KEY (id_usuario) REFERENCES Usuario (id_usuario),\u001b[39;49m\n\u001b[1;32m      8\u001b[0m \u001b[39m    FOREIGN KEY (fk_filme_id) REFERENCES Filme (id_filme)\u001b[39;49m\n\u001b[1;32m      9\u001b[0m \u001b[39m    )\u001b[39;49m\n\u001b[1;32m     10\u001b[0m \u001b[39m'''\u001b[39;49m)\n",
      "\u001b[0;31mOperationalError\u001b[0m: table Avaliacao already exists"
     ]
    }
   ],
   "source": [
    "cursor.execute('''\n",
    "    CREATE TABLE Avaliacao (\n",
    "    id_avaliacao INTEGER PRIMARY KEY,\n",
    "    id_usuario INTEGER,\n",
    "    fk_filme_id INTEGER,\n",
    "    nota_avaliacao FLOAT,\n",
    "    FOREIGN KEY (id_usuario) REFERENCES Usuario (id_usuario),\n",
    "    FOREIGN KEY (fk_filme_id) REFERENCES Filme (id_filme)\n",
    "    )\n",
    "''')"
   ]
  },
  {
   "cell_type": "code",
   "execution_count": 22,
   "metadata": {},
   "outputs": [
    {
     "ename": "OperationalError",
     "evalue": "table Ator already exists",
     "output_type": "error",
     "traceback": [
      "\u001b[0;31m---------------------------------------------------------------------------\u001b[0m",
      "\u001b[0;31mOperationalError\u001b[0m                          Traceback (most recent call last)",
      "Cell \u001b[0;32mIn[22], line 1\u001b[0m\n\u001b[0;32m----> 1\u001b[0m cursor\u001b[39m.\u001b[39;49mexecute(\u001b[39m'''\u001b[39;49m\n\u001b[1;32m      2\u001b[0m \u001b[39m    CREATE TABLE Ator (\u001b[39;49m\n\u001b[1;32m      3\u001b[0m \u001b[39m\tid_ator INT PRIMARY KEY,\u001b[39;49m\n\u001b[1;32m      4\u001b[0m \u001b[39m    nome_ator VARCHAR (100)\u001b[39;49m\n\u001b[1;32m      5\u001b[0m \u001b[39m    )\u001b[39;49m\n\u001b[1;32m      6\u001b[0m \u001b[39m'''\u001b[39;49m)\n",
      "\u001b[0;31mOperationalError\u001b[0m: table Ator already exists"
     ]
    }
   ],
   "source": [
    "cursor.execute('''\n",
    "    CREATE TABLE Ator (\n",
    "\tid_ator INT PRIMARY KEY,\n",
    "    nome_ator VARCHAR (100)\n",
    "    )\n",
    "''')"
   ]
  },
  {
   "cell_type": "code",
   "execution_count": 23,
   "metadata": {},
   "outputs": [
    {
     "ename": "OperationalError",
     "evalue": "table filme_ator already exists",
     "output_type": "error",
     "traceback": [
      "\u001b[0;31m---------------------------------------------------------------------------\u001b[0m",
      "\u001b[0;31mOperationalError\u001b[0m                          Traceback (most recent call last)",
      "Cell \u001b[0;32mIn[23], line 1\u001b[0m\n\u001b[0;32m----> 1\u001b[0m cursor\u001b[39m.\u001b[39;49mexecute(\u001b[39m'''\u001b[39;49m\n\u001b[1;32m      2\u001b[0m \u001b[39m    CREATE TABLE filme_ator (\u001b[39;49m\n\u001b[1;32m      3\u001b[0m \u001b[39m\tid_filme INT,\u001b[39;49m\n\u001b[1;32m      4\u001b[0m \u001b[39m    id_ator INT,\u001b[39;49m\n\u001b[1;32m      5\u001b[0m \u001b[39m    FOREIGN KEY (id_filme) REFERENCES Filme(id_filme),\u001b[39;49m\n\u001b[1;32m      6\u001b[0m \u001b[39m    FOREIGN KEY (id_ator) REFERENCES Ator (id_ator)\u001b[39;49m\n\u001b[1;32m      7\u001b[0m \u001b[39m    )\u001b[39;49m\n\u001b[1;32m      8\u001b[0m \u001b[39m'''\u001b[39;49m)\n",
      "\u001b[0;31mOperationalError\u001b[0m: table filme_ator already exists"
     ]
    }
   ],
   "source": [
    "cursor.execute('''\n",
    "    CREATE TABLE filme_ator (\n",
    "\tid_filme INT,\n",
    "    id_ator INT,\n",
    "    FOREIGN KEY (id_filme) REFERENCES Filme(id_filme),\n",
    "    FOREIGN KEY (id_ator) REFERENCES Ator (id_ator)\n",
    "    )\n",
    "''')"
   ]
  },
  {
   "cell_type": "code",
   "execution_count": 24,
   "metadata": {},
   "outputs": [
    {
     "ename": "OperationalError",
     "evalue": "table idioma already exists",
     "output_type": "error",
     "traceback": [
      "\u001b[0;31m---------------------------------------------------------------------------\u001b[0m",
      "\u001b[0;31mOperationalError\u001b[0m                          Traceback (most recent call last)",
      "Cell \u001b[0;32mIn[24], line 1\u001b[0m\n\u001b[0;32m----> 1\u001b[0m cursor\u001b[39m.\u001b[39;49mexecute(\u001b[39m'''\u001b[39;49m\n\u001b[1;32m      2\u001b[0m \u001b[39m    CREATE TABLE idioma (\u001b[39;49m\n\u001b[1;32m      3\u001b[0m \u001b[39m\tid_idioma INT PRIMARY KEY,\u001b[39;49m\n\u001b[1;32m      4\u001b[0m \u001b[39m    nome_idioma VARCHAR (100)\u001b[39;49m\n\u001b[1;32m      5\u001b[0m \u001b[39m    )\u001b[39;49m\n\u001b[1;32m      6\u001b[0m \u001b[39m'''\u001b[39;49m)\n",
      "\u001b[0;31mOperationalError\u001b[0m: table idioma already exists"
     ]
    }
   ],
   "source": [
    "cursor.execute('''\n",
    "    CREATE TABLE idioma (\n",
    "\tid_idioma INT PRIMARY KEY,\n",
    "    nome_idioma VARCHAR (100)\n",
    "    )\n",
    "''')"
   ]
  },
  {
   "cell_type": "code",
   "execution_count": 25,
   "metadata": {},
   "outputs": [
    {
     "ename": "OperationalError",
     "evalue": "table filme_idioma already exists",
     "output_type": "error",
     "traceback": [
      "\u001b[0;31m---------------------------------------------------------------------------\u001b[0m",
      "\u001b[0;31mOperationalError\u001b[0m                          Traceback (most recent call last)",
      "Cell \u001b[0;32mIn[25], line 1\u001b[0m\n\u001b[0;32m----> 1\u001b[0m cursor\u001b[39m.\u001b[39;49mexecute(\u001b[39m'''\u001b[39;49m\n\u001b[1;32m      2\u001b[0m \u001b[39m    CREATE TABLE filme_idioma (\u001b[39;49m\n\u001b[1;32m      3\u001b[0m \u001b[39m    id_filme INT,\u001b[39;49m\n\u001b[1;32m      4\u001b[0m \u001b[39m    id_idioma INT,\u001b[39;49m\n\u001b[1;32m      5\u001b[0m \u001b[39m    FOREIGN KEY (id_filme) REFERENCES Filme(id_filme),\u001b[39;49m\n\u001b[1;32m      6\u001b[0m \u001b[39m    FOREIGN KEY (id_idioma) REFERENCES idioma(id_idioma)\u001b[39;49m\n\u001b[1;32m      7\u001b[0m \u001b[39m    )\u001b[39;49m\n\u001b[1;32m      8\u001b[0m \u001b[39m'''\u001b[39;49m)\n",
      "\u001b[0;31mOperationalError\u001b[0m: table filme_idioma already exists"
     ]
    }
   ],
   "source": [
    "cursor.execute('''\n",
    "    CREATE TABLE filme_idioma (\n",
    "    id_filme INT,\n",
    "    id_idioma INT,\n",
    "    FOREIGN KEY (id_filme) REFERENCES Filme(id_filme),\n",
    "    FOREIGN KEY (id_idioma) REFERENCES idioma(id_idioma)\n",
    "    )\n",
    "''')"
   ]
  },
  {
   "cell_type": "code",
   "execution_count": 53,
   "metadata": {},
   "outputs": [],
   "source": [
    "query = '''\n",
    "    SELECT U.id_usuario, U.username, F.id_filme, F.nome_filme, F.genero_filme, F.imdb_link, F.img_link,\n",
    "        F.popularidade_filme, F.duracao_filme, F.sinopse, F.diretor_filme, F.ano_lancamento,\n",
    "        F.nota_filme, F.produtora_filme, GROUP_CONCAT(A.nome_ator) AS atores,\n",
    "        GROUP_CONCAT(I.nome_idioma) AS idiomas, MAX(AV.nota_avaliacao) AS nota_avaliacao\n",
    "    FROM Usuario U\n",
    "    INNER JOIN Avaliacao AV ON U.id_usuario = AV.id_usuario\n",
    "    INNER JOIN Filme F ON AV.fk_filme_id = F.id_filme\n",
    "    LEFT JOIN filme_ator FA ON F.id_filme = FA.id_filme\n",
    "    LEFT JOIN Ator A ON FA.id_ator = A.id_ator\n",
    "    LEFT JOIN filme_idioma FI ON F.id_filme = FI.id_filme\n",
    "    LEFT JOIN idioma I ON FI.id_idioma = I.id_idioma\n",
    "    GROUP BY U.id_usuario, F.id_filme\n",
    "'''\n",
    "\n",
    "try:\n",
    "    cursor.execute(query)\n",
    "    resultado = cursor.fetchall()\n",
    "\n",
    "    for i in resultado:\n",
    "        print(i)\n",
    "except Exception as e:\n",
    "    print(\"Ocorreu um erro durante a execução da consulta:\", str(e))"
   ]
  },
  {
   "cell_type": "code",
   "execution_count": 54,
   "metadata": {},
   "outputs": [],
   "source": [
    "cursor.execute(\"SELECT * FROM Filme WHERE ano_lancamento = 1999\")\n",
    "resultado_consulta2 = cursor.fetchall()\n",
    "for linha in resultado_consulta2:\n",
    "    print(linha)"
   ]
  },
  {
   "cell_type": "code",
   "execution_count": 10,
   "metadata": {},
   "outputs": [],
   "source": [
    "cursor.execute(\"SELECT * FROM Filme WHERE nota_filme >= 8.0\")\n",
    "resultado_consulta3 = cursor.fetchall()\n",
    "for linha in resultado_consulta3:\n",
    "    print(linha)"
   ]
  },
  {
   "cell_type": "code",
   "execution_count": 11,
   "metadata": {},
   "outputs": [],
   "source": [
    "cursor.execute(\"SELECT * FROM Filme WHERE genero_filme = 'Ação'\")\n",
    "resultado_consulta4 = cursor.fetchall()\n",
    "for linha in resultado_consulta4:\n",
    "    print(linha)"
   ]
  },
  {
   "cell_type": "code",
   "execution_count": 56,
   "metadata": {},
   "outputs": [
    {
     "ename": "OperationalError",
     "evalue": "no such table: clientes",
     "output_type": "error",
     "traceback": [
      "\u001b[0;31m---------------------------------------------------------------------------\u001b[0m",
      "\u001b[0;31mOperationalError\u001b[0m                          Traceback (most recent call last)",
      "Cell \u001b[0;32mIn[56], line 6\u001b[0m\n\u001b[1;32m      1\u001b[0m query \u001b[39m=\u001b[39m \u001b[39m'''\u001b[39m\n\u001b[1;32m      2\u001b[0m \u001b[39m    SELECT *\u001b[39m\n\u001b[1;32m      3\u001b[0m \u001b[39m    FROM clientes\u001b[39m\n\u001b[1;32m      4\u001b[0m \u001b[39m    INNER JOIN pedidos ON clientes.id_cliente = pedidos.id_cliente;\u001b[39m\n\u001b[1;32m      5\u001b[0m \u001b[39m'''\u001b[39m\n\u001b[0;32m----> 6\u001b[0m cursor\u001b[39m.\u001b[39;49mexecute(query)\n\u001b[1;32m      8\u001b[0m results \u001b[39m=\u001b[39m cursor\u001b[39m.\u001b[39mfetchall()\n\u001b[1;32m     10\u001b[0m \u001b[39mfor\u001b[39;00m row \u001b[39min\u001b[39;00m results:\n",
      "\u001b[0;31mOperationalError\u001b[0m: no such table: clientes"
     ]
    }
   ],
   "source": [
    "query = '''\n",
    "    SELECT *\n",
    "    FROM clientes\n",
    "    INNER JOIN pedidos ON clientes.id_cliente = pedidos.id_cliente;\n",
    "'''\n",
    "cursor.execute(query)\n",
    "\n",
    "results = cursor.fetchall()\n",
    "\n",
    "for row in results:\n",
    "    print(row)\n",
    "\n",
    "conn.close()\n"
   ]
  }
 ],
 "metadata": {
  "kernelspec": {
   "display_name": "Python 3",
   "language": "python",
   "name": "python3"
  },
  "language_info": {
   "codemirror_mode": {
    "name": "ipython",
    "version": 3
   },
   "file_extension": ".py",
   "mimetype": "text/x-python",
   "name": "python",
   "nbconvert_exporter": "python",
   "pygments_lexer": "ipython3",
   "version": "3.10.4"
  },
  "orig_nbformat": 4
 },
 "nbformat": 4,
 "nbformat_minor": 2
}
